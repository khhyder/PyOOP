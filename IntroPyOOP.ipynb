{
  "nbformat": 4,
  "nbformat_minor": 0,
  "metadata": {
    "colab": {
      "name": "IntroPyOOP.ipynb",
      "provenance": [],
      "authorship_tag": "ABX9TyOrdwCyLu7xaX1/0gNr3M4m",
      "include_colab_link": true
    },
    "kernelspec": {
      "name": "python3",
      "display_name": "Python 3"
    },
    "language_info": {
      "name": "python"
    }
  },
  "cells": [
    {
      "cell_type": "markdown",
      "metadata": {
        "id": "view-in-github",
        "colab_type": "text"
      },
      "source": [
        "<a href=\"https://colab.research.google.com/github/khhyder/PyOOP/blob/main/IntroPyOOP.ipynb\" target=\"_parent\"><img src=\"https://colab.research.google.com/assets/colab-badge.svg\" alt=\"Open In Colab\"/></a>"
      ]
    },
    {
      "cell_type": "code",
      "execution_count": 1,
      "metadata": {
        "colab": {
          "base_uri": "https://localhost:8080/"
        },
        "id": "CDH-xYcRi-9V",
        "outputId": "1f9a5fb0-7b22-4f57-8d0c-076e53071ad5"
      },
      "outputs": [
        {
          "output_type": "stream",
          "name": "stdout",
          "text": [
            "PyOOP exercise\n"
          ]
        }
      ],
      "source": [
        "\"\"\"\n",
        "Intro to Py OOP\n",
        "\"\"\"\n",
        "\n",
        "print('PyOOP exercise')"
      ]
    },
    {
      "cell_type": "code",
      "source": [
        ""
      ],
      "metadata": {
        "id": "-2gh9ubTjR7u"
      },
      "execution_count": null,
      "outputs": []
    }
  ]
}